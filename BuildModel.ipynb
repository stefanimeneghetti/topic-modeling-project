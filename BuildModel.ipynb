{
 "cells": [
  {
   "cell_type": "code",
   "execution_count": 1,
   "metadata": {
    "colab": {
     "base_uri": "https://localhost:8080/"
    },
    "id": "yYDsmHhp_2jm",
    "outputId": "318795b6-394e-47a6-a387-b03f9b6ca239"
   },
   "outputs": [
    {
     "name": "stdout",
     "output_type": "stream",
     "text": [
      "Requirement already satisfied: tomotopy in /home/stefani/anaconda3/envs/ai_classes/lib/python3.9/site-packages (0.12.3)\r\n",
      "Requirement already satisfied: numpy>=1.11.0 in /home/stefani/anaconda3/envs/ai_classes/lib/python3.9/site-packages (from tomotopy) (1.22.3)\r\n"
     ]
    }
   ],
   "source": [
    "!pip install tomotopy"
   ]
  },
  {
   "cell_type": "code",
   "execution_count": 2,
   "metadata": {
    "colab": {
     "base_uri": "https://localhost:8080/"
    },
    "id": "9tjgT8dI-pvr",
    "outputId": "ba6774f5-cbb8-4223-bdc8-77b3aa625da2"
   },
   "outputs": [],
   "source": [
    "from gensim.models.coherencemodel import CoherenceModel\n",
    "import tomotopy as tp\n",
    "import csv\n",
    "import matplotlib.pyplot as plt\n",
    "\n",
    "ldamodel = tp.LDAModel"
   ]
  },
  {
   "cell_type": "markdown",
   "metadata": {
    "id": "EQdMH7ml8OJz"
   },
   "source": [
    "First we will import the preprocessed tokens."
   ]
  },
  {
   "cell_type": "code",
   "execution_count": 3,
   "metadata": {
    "id": "iDUTgx2R8EZd"
   },
   "outputs": [],
   "source": [
    "preprocessed_collection = []\n",
    "\n",
    "with open('data/tokens_20k.csv', 'r', newline='') as file:\n",
    "  myreader = csv.reader(file, delimiter=',')\n",
    "  for row in myreader:\n",
    "    preprocessed_collection.append(row)"
   ]
  },
  {
   "cell_type": "code",
   "execution_count": 4,
   "metadata": {},
   "outputs": [],
   "source": [
    "find_hyperparameters =  False"
   ]
  },
  {
   "cell_type": "code",
   "execution_count": 5,
   "metadata": {},
   "outputs": [],
   "source": [
    "if find_hyperparameters:\n",
    "    rm_top =[10, 20, 30, 40] #the number of top words to be removed (default 0)\n",
    "    min_df = [0, (int) (len(preprocessed_collection) * 0.005),(int) (len(preprocessed_collection) * 0.01), (int) (len(preprocessed_collection) * 0.02), (int) (len(preprocessed_collection) * 0.02)] #minimum document frequency of words (default 0)\n",
    "    min_cf = [0, 10, 20, 30, 50, 100, 200, 300] #minimum collection frequency of words. (default 0)\n",
    "    alphas = [0.4, 0.35, 0.3, 0.25, 0.2, 0.15, 0.1, 0.05] #hyperparameter of Dirichlet distribution for document-topic (default 0.1)\n",
    "    etas = [0.4, 0.35, 0.3, 0.25, 0.2, 0.15, 0.1, 0.05]  #hyperparameter of Dirichlet distribution for topic-word (default 0.01)\n",
    "    K=[10, 20, 30, 40, 50]\n",
    "    iterations = len(rm_top) * len(min_df) * len(min_cf) * len(alphas) * len(etas) * len(K)\n",
    "    cv=[]\n",
    "    iter = 0\n",
    "    configs = []\n",
    "    print('# of docs:', len(preprocessed_collection)) \n",
    "    print('# of iterations:', iterations)\n",
    "    for k in K:\n",
    "      for mdf in min_df:\n",
    "        for rm in rm_top:\n",
    "          for a in alphas: \n",
    "            for e in etas:\n",
    "              for mcf in min_cf:\n",
    "                iter += 1\n",
    "                print(iter, end=' ')\n",
    "                #create an object\n",
    "                #tw term weight IDF (Inverse Document Frequency term weighting), ONE (equal - default), PMI (Use Pointwise Mutual Information term weighting)\n",
    "                LDA = ldamodel(tw = tp.TermWeight.IDF, k=k, alpha = a , eta = e, seed = 9999,  min_df = mdf, min_cf = mcf, rm_top = rm)\n",
    "                #add documents to it\n",
    "                for doc in preprocessed_collection:\n",
    "                    LDA.add_doc(doc)\n",
    "                #train\n",
    "                LDA.train(iter = 500) # iter (# of iterations - default 10) # workers (# of cores to be used - 0 all)\n",
    "                #get the coherence (c_v)\n",
    "                coh = tp.coherence.Coherence(LDA, coherence='c_v')\n",
    "                average_coherence = coh.get_score()\n",
    "                print('K: %2d mcf: %2d mdf: %2d rm: %2d alfa: %.3f beta: %.3f coherence: %.3f'%(k,mcf,mdf,rm,a,e,average_coherence),end=' Collection ')\n",
    "                print(' Vocab size:', len(LDA.used_vocabs), ' # of words:', LDA.num_words)\n",
    "                configs.append([k,mcf,mdf,rm,a,e,average_coherence])\n",
    "                cv.append(average_coherence)"
   ]
  },
  {
   "cell_type": "markdown",
   "metadata": {},
   "source": [
    "## Create model"
   ]
  },
  {
   "cell_type": "code",
   "execution_count": 6,
   "metadata": {},
   "outputs": [
    {
     "name": "stderr",
     "output_type": "stream",
     "text": [
      "/tmp/ipykernel_46580/205317636.py:20: RuntimeWarning: The training result may differ even with fixed seed if `workers` != 1.\n",
      "  LDA.train(iter = 500)\n"
     ]
    }
   ],
   "source": [
    "rm_top = 10\n",
    "min_df = 194\n",
    "min_cf = 194\n",
    "alpha = 0.2\n",
    "eta = 0.1\n",
    "K = 20\n",
    "\n",
    "LDA = ldamodel(\n",
    "    tw = tp.TermWeight.IDF,\n",
    "    k=K, alpha = alpha, \n",
    "    eta = eta,\n",
    "    seed = 9999,\n",
    "    min_df = min_df,\n",
    "    min_cf = min_cf,\n",
    "    rm_top = rm_top\n",
    ")\n",
    "for doc in preprocessed_collection:\n",
    "    LDA.add_doc(doc)\n",
    "\n",
    "LDA.train(iter = 500) "
   ]
  },
  {
   "cell_type": "code",
   "execution_count": 7,
   "metadata": {},
   "outputs": [
    {
     "name": "stdout",
     "output_type": "stream",
     "text": [
      "\n",
      "Coherence: 0.7594939216971398\n"
     ]
    }
   ],
   "source": [
    "coh = tp.coherence.Coherence(LDA, coherence='c_v')\n",
    "av_co = coh.get_score()\n",
    "print(\"\\nCoherence:\", av_co)"
   ]
  },
  {
   "cell_type": "code",
   "execution_count": 8,
   "metadata": {},
   "outputs": [
    {
     "name": "stdout",
     "output_type": "stream",
     "text": [
      "<Basic Info>\n",
      "| LDAModel (current version: 0.12.3)\n",
      "| 19476 docs, 2817094 words\n",
      "| Total Vocabs: 193656, Used Vocabs: 2795\n",
      "| Entropy of words: 7.45066\n",
      "| Entropy of term-weighted words: 7.71646\n",
      "| Removed Vocabs: year people time like new good way day government week\n",
      "|\n",
      "<Training Info>\n",
      "| Iterations: 500, Burn-in steps: 0\n",
      "| Optimization Interval: 10\n",
      "| Log-likelihood per word: -7.74652\n",
      "|\n",
      "<Initial Parameters>\n",
      "| tw: TermWeight.IDF\n",
      "| min_cf: 194 (minimum collection frequency of words)\n",
      "| min_df: 194 (minimum document frequency of words)\n",
      "| rm_top: 10 (the number of top words to be removed)\n",
      "| k: 20 (the number of topics between 1 ~ 32767)\n",
      "| alpha: [0.2] (hyperparameter of Dirichlet distribution for document-topic, given as a single `float` in case of symmetric prior and as a list with length `k` of `float` in case of asymmetric prior.)\n",
      "| eta: 0.1 (hyperparameter of Dirichlet distribution for topic-word)\n",
      "| seed: 9999 (random seed)\n",
      "| trained in version 0.12.3\n",
      "|\n",
      "<Parameters>\n",
      "| alpha (Dirichlet prior on the per-document topic distributions)\n",
      "|  [0.02169477 0.01831762 0.01822008 0.01321494 0.03294939 0.02977686\n",
      "|   0.00950339 0.02243241 0.01912517 0.02046899 0.01998557 0.01844392\n",
      "|   0.02984355 0.01305912 0.02317019 0.01319508 0.00748084 0.05674465\n",
      "|   0.03522925 0.01352279]\n",
      "| eta (Dirichlet prior on the per-topic word distribution)\n",
      "|  0.1\n",
      "|\n",
      "<Topics>\n",
      "| #0 (122374) : film bbc movie actor comedy\n",
      "| #1 (120995) : market economy price company growth\n",
      "| #2 (102836) : apple company facebook app user\n",
      "| #3 (81394) : song music album band festival\n",
      "| #4 (216566) : school student child university community\n",
      "| #5 (175173) : police court case prison law\n",
      "| #6 (72116) : labour corbyn party labour_party jeremy_corbyn\n",
      "| #7 (201963) : game player team england sport\n",
      "| #8 (113672) : company business tax bank money\n",
      "| #9 (127166) : police isis attack city syria\n",
      "| #10 (117967) : art artist theatre museum work\n",
      "| #11 (147069) : trump clinton election donald_trump candidate\n",
      "| #12 (203954) : brexit britain europe referendum country\n",
      "| #13 (73636) : patient nhs doctor hospital health\n",
      "| #14 (137694) : water food city island restaurant\n",
      "| #15 (79063) : scientist study animal human research\n",
      "| #16 (28507) : car driver passenger flight vehicle\n",
      "| #17 (325923) : child thing life friend mother\n",
      "| #18 (225295) : book woman novel story writer\n",
      "| #19 (143731) : club player game team football\n",
      "|\n",
      "\n"
     ]
    }
   ],
   "source": [
    "LDA.summary()"
   ]
  },
  {
   "cell_type": "code",
   "execution_count": 9,
   "metadata": {},
   "outputs": [
    {
     "name": "stdout",
     "output_type": "stream",
     "text": [
      "\n",
      "** Topics **\n",
      "\n",
      "Topic 0 => film bbc movie actor comedy character episode series star hollywood \n",
      "Topic 1 => market economy price company growth business bank industry sale investment \n",
      "Topic 2 => apple company facebook app user online google technology digital internet \n",
      "Topic 3 => song music album band festival artist sound pop track singer \n",
      "Topic 4 => school student child university community council education housing work young_people \n",
      "Topic 5 => police court case prison law investigation officer australia report inquiry \n",
      "Topic 6 => labour corbyn party labour_party jeremy_corbyn election leader member labour_leader general_election \n",
      "Topic 7 => game player team england sport match race season ball coach \n",
      "Topic 8 => company business tax bank money customer worker deal firm payment \n",
      "Topic 9 => police isis attack city syria camp war family refugee gun \n",
      "Topic 10 => art artist theatre museum work play exhibition painting london gallery \n",
      "Topic 11 => trump clinton election donald_trump candidate labor obama president sanders hillary_clinton \n",
      "Topic 12 => brexit britain europe referendum country prime_minister european british cameron vote \n",
      "Topic 13 => patient nhs doctor hospital health drug mental_health care treatment medical \n",
      "Topic 14 => water food city island restaurant garden town tree park hotel \n",
      "Topic 15 => scientist study animal human research science specie climate_change researcher brain \n",
      "Topic 16 => car driver passenger flight vehicle plane alcohol train airport road \n",
      "Topic 17 => child thing life friend mother family man parent father woman \n",
      "Topic 18 => book woman novel story writer man word life black author \n",
      "Topic 19 => club player game team football season goal manager premier_league liverpool \n"
     ]
    }
   ],
   "source": [
    "print(\"\\n** Topics **\\n\")\n",
    "for i in range(K):\n",
    "  print(\"Topic\", i, end=' => ')\n",
    "  for w in LDA.get_topic_words(i):\n",
    "    print(w[0], end=' ')\n",
    "  print()\n"
   ]
  },
  {
   "cell_type": "code",
   "execution_count": 10,
   "metadata": {},
   "outputs": [],
   "source": [
    "topics_dist = [(x, 0) for x in range(K)]\n",
    "topics_docs = [[] for x in range(K)]\n",
    "c = 0\n",
    "for index, doc in enumerate(LDA.docs):\n",
    "  threshold = 0.3\n",
    "\n",
    "  d_topics = doc.get_topics(top_n=4)\n",
    "  found_topic = False;\n",
    "\n",
    "  for topic in d_topics:\n",
    "    if topic[1] >= threshold:\n",
    "      ntd = topics_dist[topic[0]][1] + 1\n",
    "      topics_dist[topic[0]] = (topic[0], ntd)\n",
    "      topics_docs[topic[0]].append(index)\n",
    "      found_topic = True    \n",
    "    \n",
    "  if not found_topic:\n",
    "    ntd = topics_dist[d_topics[0][0]][1] + 1\n",
    "    topics_dist[d_topics[0][0]] = (d_topics[0][0], ntd) "
   ]
  },
  {
   "cell_type": "code",
   "execution_count": 11,
   "metadata": {},
   "outputs": [
    {
     "data": {
      "image/png": "[encoded data removed]",
      "text/plain": [
       "<Figure size 720x288 with 1 Axes>"
      ]
     },
     "metadata": {
      "needs_background": "light"
     },
     "output_type": "display_data"
    }
   ],
   "source": [
    "fig = plt.figure(figsize=(10, 4))\n",
    "ax = fig.add_axes([0,0,1,1])\n",
    "topics = [str(x) for x in range(K)]\n",
    "documents = [y for (x, y) in topics_dist]\n",
    "ax.bar(topics, documents)\n",
    "plt.show()"
   ]
  },
  {
   "cell_type": "code",
   "execution_count": 12,
   "metadata": {},
   "outputs": [
    {
     "name": "stdout",
     "output_type": "stream",
     "text": [
      "\n",
      "** Sorted Topics **\n",
      "\n",
      "Topic 17 => child thing life friend mother family man parent father woman \n",
      "Topic 18 => book woman novel story writer man word life black author \n",
      "Topic 5 => police court case prison law investigation officer australia report inquiry \n",
      "Topic 12 => brexit britain europe referendum country prime_minister european british cameron vote \n",
      "Topic 4 => school student child university community council education housing work young_people \n",
      "Topic 7 => game player team england sport match race season ball coach \n",
      "Topic 0 => film bbc movie actor comedy character episode series star hollywood \n",
      "Topic 10 => art artist theatre museum work play exhibition painting london gallery \n",
      "Topic 19 => club player game team football season goal manager premier_league liverpool \n",
      "Topic 11 => trump clinton election donald_trump candidate labor obama president sanders hillary_clinton \n",
      "Topic 14 => water food city island restaurant garden town tree park hotel \n",
      "Topic 9 => police isis attack city syria camp war family refugee gun \n",
      "Topic 8 => company business tax bank money customer worker deal firm payment \n",
      "Topic 1 => market economy price company growth business bank industry sale investment \n",
      "Topic 3 => song music album band festival artist sound pop track singer \n",
      "Topic 2 => apple company facebook app user online google technology digital internet \n",
      "Topic 15 => scientist study animal human research science specie climate_change researcher brain \n",
      "Topic 13 => patient nhs doctor hospital health drug mental_health care treatment medical \n",
      "Topic 6 => labour corbyn party labour_party jeremy_corbyn election leader member labour_leader general_election \n",
      "Topic 16 => car driver passenger flight vehicle plane alcohol train airport road \n"
     ]
    }
   ],
   "source": [
    "topics_dist = sorted(topics_dist, reverse=True, key=lambda x: x[1])\n",
    "\n",
    "print(\"\\n** Sorted Topics **\\n\")\n",
    "\n",
    "for topic in topics_dist:\n",
    "  print(\"Topic\", topic[0], end=' => ')\n",
    "  for w in LDA.get_topic_words(topic[0]):\n",
    "    print(w[0], end=' ')\n",
    "  print()"
   ]
  },
  {
   "cell_type": "markdown",
   "metadata": {},
   "source": [
    "Topic 17 => child thing life friend mother family man parent father woman (Family)\n",
    "\n",
    "Topic 18 => book woman novel story writer man word life black author (Books)\n",
    "\n",
    "Topic 5 => police court case prison law investigation officer australia report inquiry (Police Cases)\n",
    "\n",
    "Topic 12 => brexit britain europe referendum country prime_minister european british cameron vote (United Kingdom News)\n",
    "\n",
    "Topic 4 => school student child university community council education housing work young_people (Young People)\n",
    "\n",
    "Topic 7 => game player team england sport match race season ball coach (Sports)\n",
    "\n",
    "Topic 0 => film bbc movie actor comedy character episode series star hollywood (Entertainment)\n",
    "\n",
    "Topic 10 => art artist theatre museum work play exhibition painting london gallery (Art)\n",
    "\n",
    "Topic 19 => club player game team football season goal manager premier_league liverpool (Soccer)\n",
    "\n",
    "Topic 11 => trump clinton election donald_trump candidate labor obama president sanders hillary_clinton (Politics)\n"
   ]
  },
  {
   "cell_type": "code",
   "execution_count": 13,
   "metadata": {},
   "outputs": [
    {
     "data": {
      "text/plain": [
       "<tomotopy.Document with words=\"family detention_center outside texas license family detention_center outside texas license immigrant right_activist berks_county residential_center pennsylvania license license letter berks_county week pennsylvania_department human_services center license child residential_facility license center february letter state certificate compliance november facility february state approval expansion bed_bed warning year county huge development bridget_cambria partner cambria kline law_firm client berks proud state will family detention cambria detainee young day old facility contract immigration_customs enforcement_ice parent_child room unrelated adult fence facility old hospital free ice parent_child residential_center low security_measure place detention_center adult berks unique father_mother child family_berks ice_raid early_month cambria client facility long month appeal spouse relative asylum fear torture persecution home country ice facility model woman child texas immigrant right_advocate berks long compliance argument berks_state finally erika almeron executive_director juntos philadelphia long family almeron petition ice immediately berks_state license violation state law ice comment response pleased today development syrian_refugee berks year_old daughter november april case push berks meeting secretary department human_services type life prison father_daughter place texas department family protective service friday hearing private family detention_center open business decision month\">"
      ]
     },
     "execution_count": 13,
     "metadata": {},
     "output_type": "execute_result"
    }
   ],
   "source": [
    "LDA.docs[topics_docs[5][20]] # PoliceCases Topic Example"
   ]
  },
  {
   "cell_type": "code",
   "execution_count": 14,
   "metadata": {},
   "outputs": [
    {
     "data": {
      "text/plain": [
       "<tomotopy.Document with words=\"mitchell_pearce likely nrl suspension wil sydney_roosters hard nick_tedeschi sydney_roosters star mitchell_pearce late behavioural indiscretion likely suspension nrl major reverberation rugby_league world league little choice pearce significant time precedent stone fate todd_carney blake_ferguson recent_year pearce suspension likely year indefinite ferguson season criminal_charge carney seemingly black nrl series distasteful incident currently legal_action club cronulla case likely great pearce_club straight minor_premiership nrl title club disarray practical sense troubling roosters premiership favourite likely season half combination jackson hastings jayden nikorima grand total nrl game bookmaker rightly premiership roosters big drifter hastings player immense_promise tender_age likely gradually action support experienced pearce_likely senior half having game season roosters decision origin star james_maloney defect sharks nikorima sniff grade broncos roosters season certainty start_season roosters reportedly headquarter role infamous pearce video nikorima voice allegedly tape suggestion inappropriately play cupboard eastern_suburb bare origin pairing unproven rookie matter roosters roger tuivasa sheck new_zealand pearce_likely suspension trent robinson team key playmaker club assist year player assist blake_ferguson tuivasa sheck fullback ferguson undeniable talent game raiders custodian flow continue strike centre michael jennings parramatta solid_unspectacular dale copley game roosters interesting dilemma half apparent pursuit salary_cap space order play big free_agent sonny_bill williams jarryd_hayne luke keary certain south sydney owner russell_crowe club belief john sutton rabbitohs size option will cheap unlikely south great rival slight favour veteran panther peter wallace clearly favour new penrith coach anthony griffin short_term solution raider outcast sam williams possibly appealing fit lot new south_wales cup football recruitment aiden sezer reasonable salary likely roosters need williams deserved opportunity stability reliable coaching pearce year_old veteran game likely final game sydney_roosters year contract club unlikely player nrl year origin career surely end record series loss late indescretion likely blues coach laurie daley close representative career new south_wales player super_league likely fate pearce game english style relative anonymity paddock away spotlight time bondi junction future nrl young point game will_anytime soon increasingly hard line stance player misbehaviour hold pearce supporter drunken buffoonery matter present room rugby_league world teammate coach administrator fan selector punter tremor comment line legal reason\">"
      ]
     },
     "execution_count": 14,
     "metadata": {},
     "output_type": "execute_result"
    }
   ],
   "source": [
    "LDA.docs[topics_docs[7][100]] # Sports Topic Example"
   ]
  },
  {
   "cell_type": "code",
   "execution_count": 15,
   "metadata": {},
   "outputs": [
    {
     "data": {
      "text/plain": [
       "<tomotopy.Document with words=\"obama true_heir hillary_clinton blessing bernie_sanders kim phillips fein past week iowa_caucus nigh debate democratic_party circle legacy president_barack obama_hillary clinton senator_bernie sanders legacy clinton_campaign website candidate recently letter supporter president_obama legacy means campaign term record financial_regulation healthcare foreign_policy role administration onetime political_opponent reader place colleague confidante sanders rhetoric political transformation obama clearly clinton_iowa young_people way obama year_ago candidate understandably stamp obama approval true sanders obama term voter usually poll similarity obama sanders_clinton obama_legacy legacy sanders_sanders obama_heir campaign crisis middle_class era inequality problem past_year term policy campaign proposal genuine departure promise health_insurance truly universal commitment system free public high_education attempt building_block economic security vagary marketplace true obama keystone_pipeline sanders major public investment green infrastructure seriously president understandable sanders obama campaign_trail historic turnout cnn reporter campaign logo sun slogan future obama politic obama_legacy problematic lesson complex time time voter_poll year candidate change past_year one political disappointment instead challenge system financial_meltdown bank_bailout accommodation people home instead step economic equality trans_pacific partnership instead great_transparency nsa obama midst_economic crisis broad questioning free_market power business america today gilded_age deeply defeat deep_sense political estrangement clinton realist alternative obama dreamer way today obama pragmatic politician clinton like obama politician realism principle end obama assessment clinton recent politico interview value governance good politics problem approach exactly opportunity myriad loss obama_presidency sanders_clinton obama_legacy new\">"
      ]
     },
     "execution_count": 15,
     "metadata": {},
     "output_type": "execute_result"
    }
   ],
   "source": [
    "LDA.docs[topics_docs[11][11]] # Politics Topic Example"
   ]
  },
  {
   "cell_type": "code",
   "execution_count": 18,
   "metadata": {},
   "outputs": [
    {
     "data": {
      "text/plain": [
       "<tomotopy.Document with words=\"chelsea_manchester city arsenal_hull cup_round manchester_city chelsea_stamford bridge cup_round club meet having city chelsea competition occasion chelsea dons shortly draw place game club_captain john_terry season contract_stamford bridge shrewsbury_town currently league manchester_united good run competition time winner fellow tier peterborough reading round_replay west_brom holder arsenal_hull city emirates club final_wembley current championship leader premier_league tie tottenham meeting crystal_palace everton trip bournemouth_round match place february cup_round draw_chelsea manchester_city west_brom peterborough watford leeds_united shrewsbury_town manchester_united blackburn_rovers liverpool west_ham united_tottenham crystal_palace arsenal_hull city bournemouth_everton\">"
      ]
     },
     "execution_count": 18,
     "metadata": {},
     "output_type": "execute_result"
    }
   ],
   "source": [
    "LDA.docs[topics_docs[19][12]]"
   ]
  }
 ],
 "metadata": {
  "colab": {
   "name": "BuildModel.ipynb",
   "provenance": []
  },
  "kernelspec": {
   "display_name": "Python 3.8.10 64-bit",
   "language": "python",
   "name": "python3"
  },
  "language_info": {
   "codemirror_mode": {
    "name": "ipython",
    "version": 3
   },
   "file_extension": ".py",
   "mimetype": "text/x-python",
   "name": "python",
   "nbconvert_exporter": "python",
   "pygments_lexer": "ipython3",
   "version": "3.8.10"
  },
  "vscode": {
   "interpreter": {
    "hash": "916dbcbb3f70747c44a77c7bcd40155683ae19c65e1c03b4aa3499c5328201f1"
   }
  }
 },
 "nbformat": 4,
 "nbformat_minor": 1
}
